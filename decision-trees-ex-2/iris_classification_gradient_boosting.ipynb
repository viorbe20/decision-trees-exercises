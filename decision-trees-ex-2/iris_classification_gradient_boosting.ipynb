{
 "cells": [
  {
   "cell_type": "markdown",
   "metadata": {},
   "source": [
    "# Árboles de decisión II\n",
    "## author: Virginia Ordoño Bernier\n",
    "## date: february 2024\n",
    "\n",
    "En este ejercicio se aplica el método **Gradient Boosting** al dataset Iris (clasificación).\n",
    "\n",
    "Se usará también las técnicas de **GridSearch** y **RandomizedSearch** para la búsqueda de los mejores hiperparámetros. "
   ]
  },
  {
   "cell_type": "markdown",
   "metadata": {},
   "source": [
    "### 1. Gestión de datos"
   ]
  },
  {
   "cell_type": "markdown",
   "metadata": {},
   "source": [
    "#### 1.1 Carga y creación del dataframe"
   ]
  },
  {
   "cell_type": "code",
   "execution_count": 10,
   "metadata": {},
   "outputs": [
    {
     "data": {
      "text/html": [
       "<div>\n",
       "<style scoped>\n",
       "    .dataframe tbody tr th:only-of-type {\n",
       "        vertical-align: middle;\n",
       "    }\n",
       "\n",
       "    .dataframe tbody tr th {\n",
       "        vertical-align: top;\n",
       "    }\n",
       "\n",
       "    .dataframe thead th {\n",
       "        text-align: right;\n",
       "    }\n",
       "</style>\n",
       "<table border=\"1\" class=\"dataframe\">\n",
       "  <thead>\n",
       "    <tr style=\"text-align: right;\">\n",
       "      <th></th>\n",
       "      <th>sepal_length_cm</th>\n",
       "      <th>sepal_width_cm</th>\n",
       "      <th>petal_length_cm</th>\n",
       "      <th>petal_width_cm</th>\n",
       "      <th>target</th>\n",
       "    </tr>\n",
       "  </thead>\n",
       "  <tbody>\n",
       "    <tr>\n",
       "      <th>0</th>\n",
       "      <td>5.1</td>\n",
       "      <td>3.5</td>\n",
       "      <td>1.4</td>\n",
       "      <td>0.2</td>\n",
       "      <td>0</td>\n",
       "    </tr>\n",
       "    <tr>\n",
       "      <th>1</th>\n",
       "      <td>4.9</td>\n",
       "      <td>3.0</td>\n",
       "      <td>1.4</td>\n",
       "      <td>0.2</td>\n",
       "      <td>0</td>\n",
       "    </tr>\n",
       "    <tr>\n",
       "      <th>2</th>\n",
       "      <td>4.7</td>\n",
       "      <td>3.2</td>\n",
       "      <td>1.3</td>\n",
       "      <td>0.2</td>\n",
       "      <td>0</td>\n",
       "    </tr>\n",
       "    <tr>\n",
       "      <th>3</th>\n",
       "      <td>4.6</td>\n",
       "      <td>3.1</td>\n",
       "      <td>1.5</td>\n",
       "      <td>0.2</td>\n",
       "      <td>0</td>\n",
       "    </tr>\n",
       "    <tr>\n",
       "      <th>4</th>\n",
       "      <td>5.0</td>\n",
       "      <td>3.6</td>\n",
       "      <td>1.4</td>\n",
       "      <td>0.2</td>\n",
       "      <td>0</td>\n",
       "    </tr>\n",
       "    <tr>\n",
       "      <th>...</th>\n",
       "      <td>...</td>\n",
       "      <td>...</td>\n",
       "      <td>...</td>\n",
       "      <td>...</td>\n",
       "      <td>...</td>\n",
       "    </tr>\n",
       "    <tr>\n",
       "      <th>145</th>\n",
       "      <td>6.7</td>\n",
       "      <td>3.0</td>\n",
       "      <td>5.2</td>\n",
       "      <td>2.3</td>\n",
       "      <td>2</td>\n",
       "    </tr>\n",
       "    <tr>\n",
       "      <th>146</th>\n",
       "      <td>6.3</td>\n",
       "      <td>2.5</td>\n",
       "      <td>5.0</td>\n",
       "      <td>1.9</td>\n",
       "      <td>2</td>\n",
       "    </tr>\n",
       "    <tr>\n",
       "      <th>147</th>\n",
       "      <td>6.5</td>\n",
       "      <td>3.0</td>\n",
       "      <td>5.2</td>\n",
       "      <td>2.0</td>\n",
       "      <td>2</td>\n",
       "    </tr>\n",
       "    <tr>\n",
       "      <th>148</th>\n",
       "      <td>6.2</td>\n",
       "      <td>3.4</td>\n",
       "      <td>5.4</td>\n",
       "      <td>2.3</td>\n",
       "      <td>2</td>\n",
       "    </tr>\n",
       "    <tr>\n",
       "      <th>149</th>\n",
       "      <td>5.9</td>\n",
       "      <td>3.0</td>\n",
       "      <td>5.1</td>\n",
       "      <td>1.8</td>\n",
       "      <td>2</td>\n",
       "    </tr>\n",
       "  </tbody>\n",
       "</table>\n",
       "<p>150 rows × 5 columns</p>\n",
       "</div>"
      ],
      "text/plain": [
       "     sepal_length_cm  sepal_width_cm  petal_length_cm  petal_width_cm  target\n",
       "0                5.1             3.5              1.4             0.2       0\n",
       "1                4.9             3.0              1.4             0.2       0\n",
       "2                4.7             3.2              1.3             0.2       0\n",
       "3                4.6             3.1              1.5             0.2       0\n",
       "4                5.0             3.6              1.4             0.2       0\n",
       "..               ...             ...              ...             ...     ...\n",
       "145              6.7             3.0              5.2             2.3       2\n",
       "146              6.3             2.5              5.0             1.9       2\n",
       "147              6.5             3.0              5.2             2.0       2\n",
       "148              6.2             3.4              5.4             2.3       2\n",
       "149              5.9             3.0              5.1             1.8       2\n",
       "\n",
       "[150 rows x 5 columns]"
      ]
     },
     "execution_count": 10,
     "metadata": {},
     "output_type": "execute_result"
    }
   ],
   "source": [
    "import pandas as pd\n",
    "import inflection\n",
    "from sklearn.datasets import load_iris  # Importa load_iris desde sklearn.datasets\n",
    "\n",
    "# Cargar el conjunto de datos de ejemplo (Iris)\n",
    "iris = load_iris()\n",
    "X = iris.data\n",
    "y = iris.target\n",
    "\n",
    "# Convertir los datos en DataFrame y cambiar nombre columnas\n",
    "df_iris = pd.DataFrame(data=X, columns=iris.feature_names)\n",
    "df_iris.columns = [inflection.underscore(col.replace(' ', '_').replace('(', '').replace(')', '')) for col in df_iris.columns]\n",
    "\n",
    "# Agrega target\n",
    "df_iris['target'] = y\n",
    "\n",
    "df_iris\n"
   ]
  },
  {
   "cell_type": "markdown",
   "metadata": {},
   "source": [
    "#### 1.2. Correlación de variables"
   ]
  },
  {
   "cell_type": "code",
   "execution_count": 11,
   "metadata": {},
   "outputs": [
    {
     "data": {
      "image/png": "[encoded data removed]",
      "text/plain": [
       "<Figure size 1000x800 with 2 Axes>"
      ]
     },
     "metadata": {},
     "output_type": "display_data"
    },
    {
     "name": "stdout",
     "output_type": "stream",
     "text": [
      "                 sepal_length_cm  sepal_width_cm  petal_length_cm  \\\n",
      "sepal_length_cm             1.00           -0.12             0.87   \n",
      "sepal_width_cm             -0.12            1.00            -0.43   \n",
      "petal_length_cm             0.87           -0.43             1.00   \n",
      "petal_width_cm              0.82           -0.37             0.96   \n",
      "target                      0.78           -0.43             0.95   \n",
      "\n",
      "                 petal_width_cm  target  \n",
      "sepal_length_cm            0.82    0.78  \n",
      "sepal_width_cm            -0.37   -0.43  \n",
      "petal_length_cm            0.96    0.95  \n",
      "petal_width_cm             1.00    0.96  \n",
      "target                     0.96    1.00  \n"
     ]
    }
   ],
   "source": [
    "# Crear una matriz de correlación\n",
    "import pandas as pd\n",
    "import seaborn as sns\n",
    "import matplotlib.pyplot as plt\n",
    "\n",
    "correlation_matrix = df_iris.corr()\n",
    "\n",
    "# Visualizar la matriz de correlación utilizando seaborn\n",
    "plt.figure(figsize=(10, 8))\n",
    "sns.heatmap(correlation_matrix, annot=True, cmap='viridis', fmt=\".2f\")\n",
    "plt.title(\"Matriz de Correlación\")\n",
    "plt.show()\n",
    "\n",
    "# Imprimir la matriz de correlación con redondeo a 2 decimales\n",
    "# print(\"Matriz de Correlación:\")\n",
    "print(correlation_matrix.round(2))"
   ]
  },
  {
   "cell_type": "markdown",
   "metadata": {},
   "source": [
    "#### 1.3. Lectura de correlación\n",
    "\n",
    "Correlación Positiva Fuerte:\n",
    "\n",
    "La longitud del pétalo (petal_length_cm) muestra una correlación positiva fuerte con la longitud del sépalo (sepal_length_cm) y el ancho del pétalo (petal_width_cm).\n",
    "\n",
    "El ancho del pétalo (petal_width_cm) también muestra una fuerte correlación positiva con la longitud del pétalo (petal_length_cm) y la longitud del sépalo (sepal_length_cm).\n",
    "Correlación Negativa Moderada:\n",
    "\n",
    "La anchura del sépalo (sepal_width_cm) muestra una correlación negativa moderada con la longitud del pétalo (petal_length_cm) y el ancho del pétalo (petal_width_cm).\n",
    "Correlación con la Variable Objetivo (target):\n",
    "\n",
    "Todas las características (sepal_length_cm, sepal_width_cm, petal_length_cm, petal_width_cm) muestran una correlación positiva con la variable objetivo (target), siendo la mayor correlación la de petal_width_cm con un valor de 0.96."
   ]
  },
  {
   "cell_type": "markdown",
   "metadata": {},
   "source": [
    "### 1.4. Preparación de datos para el entrenamiento"
   ]
  },
  {
   "cell_type": "code",
   "execution_count": 12,
   "metadata": {},
   "outputs": [
    {
     "name": "stdout",
     "output_type": "stream",
     "text": [
      "Conjunto de entrenamiento:\n",
      "   sepal_length_cm  sepal_width_cm  petal_length_cm  petal_width_cm\n",
      "0              5.7             2.9              4.2             1.3\n",
      "1              7.6             3.0              6.6             2.1\n",
      "2              5.6             3.0              4.5             1.5\n",
      "3              5.1             3.5              1.4             0.2\n",
      "4              7.7             2.8              6.7             2.0\n",
      "\n",
      "Conjunto de prueba:\n",
      "   sepal_length_cm  sepal_width_cm  petal_length_cm  petal_width_cm\n",
      "0              6.1             2.8              4.7             1.2\n",
      "1              5.7             3.8              1.7             0.3\n",
      "2              7.7             2.6              6.9             2.3\n",
      "3              6.0             2.9              4.5             1.5\n",
      "4              6.8             2.8              4.8             1.4\n"
     ]
    }
   ],
   "source": [
    "from sklearn.model_selection import train_test_split\n",
    "\n",
    "X = df_iris.drop('target', axis=1)\n",
    "y = df_iris['target']\n",
    "\n",
    "# Divide el DataFrame en conjuntos de entrenamiento y prueba \n",
    "train, test = train_test_split(df_iris, test_size=0.33, random_state=42)\n",
    "\n",
    "# Reseteo de índices\n",
    "train.reset_index(drop=True, inplace=True)\n",
    "test.reset_index(drop=True, inplace=True)\n",
    "\n",
    "# Separación características y etiquetas\n",
    "X_train = train.drop('target', axis=1)  \n",
    "y_train = train['target']  \n",
    "X_test = test.drop('target', axis=1)  \n",
    "y_test = test['target']\n",
    "\n",
    "print(\"Conjunto de entrenamiento:\")\n",
    "print(X_train.head()) \n",
    "\n",
    "print(\"\\nConjunto de prueba:\")\n",
    "print(X_test.head())  \n"
   ]
  },
  {
   "cell_type": "markdown",
   "metadata": {},
   "source": [
    "## 2. Búsqueda de Parametrización con GridSearch y GradientBoosting"
   ]
  },
  {
   "cell_type": "code",
   "execution_count": 13,
   "metadata": {},
   "outputs": [
    {
     "name": "stdout",
     "output_type": "stream",
     "text": [
      "              precision    recall  f1-score   support\n",
      "\n",
      "           0       1.00      1.00      1.00        19\n",
      "           1       0.94      1.00      0.97        15\n",
      "           2       1.00      0.94      0.97        16\n",
      "\n",
      "    accuracy                           0.98        50\n",
      "   macro avg       0.98      0.98      0.98        50\n",
      "weighted avg       0.98      0.98      0.98        50\n",
      "\n"
     ]
    }
   ],
   "source": [
    "from sklearn.ensemble import GradientBoostingClassifier\n",
    "from sklearn.model_selection import GridSearchCV\n",
    "from sklearn.metrics import classification_report\n",
    "\n",
    "param_dist = {\n",
    "    \"n_estimators\": [32, 64, 128],\n",
    "    \"learning_rate\": [0.01, 0.05, 0.1, 0.25, 0.5],\n",
    "    \"max_features\": [\"log2\", \"sqrt\"], # max_features' parameter of GradientBoostingRegressor must be a str among {'sqrt', 'log2'} or None. \n",
    "    \"loss\": ['log_loss'],#The 'loss' parameter of GradientBoostingClassifier must be a str among {'log_loss'} exponential da problemas\n",
    "    \"criterion\": ['squared_error', 'friedman_mse'] #  The 'criterion' parameter of GradientBoostingRegressor must be a str among {'squared_error', 'friedman_mse'}\n",
    "}\n",
    "\n",
    "# Aplicar GridSearchCV\n",
    "grid_gb = GridSearchCV(GradientBoostingClassifier(), param_grid=param_dist, cv=5)\n",
    "grid_gb.fit(X=train.drop(['target'], axis=1), y=train['target'])\n",
    "\n",
    "# Obtener el mejor estimador\n",
    "best_gb = grid_gb.best_estimator_\n",
    "\n",
    "# fit y predecir utilizando el mejor estimador\n",
    "y_pred = best_gb.predict(X=test.drop(['target'], axis=1))\n",
    "\n",
    "# Evaluar\n",
    "print(classification_report(y_test, y_pred))"
   ]
  },
  {
   "cell_type": "markdown",
   "metadata": {},
   "source": [
    "## 3. Búsqueda de Parametrización con RandomizedSearch y GradientBoosting"
   ]
  },
  {
   "cell_type": "code",
   "execution_count": 14,
   "metadata": {},
   "outputs": [
    {
     "name": "stdout",
     "output_type": "stream",
     "text": [
      "              precision    recall  f1-score   support\n",
      "\n",
      "           0       1.00      1.00      1.00        19\n",
      "           1       0.94      1.00      0.97        15\n",
      "           2       1.00      0.94      0.97        16\n",
      "\n",
      "    accuracy                           0.98        50\n",
      "   macro avg       0.98      0.98      0.98        50\n",
      "weighted avg       0.98      0.98      0.98        50\n",
      "\n"
     ]
    }
   ],
   "source": [
    "from sklearn.ensemble import GradientBoostingClassifier\n",
    "from sklearn.model_selection import RandomizedSearchCV\n",
    "from sklearn.metrics import classification_report\n",
    "from scipy.stats import randint as sp_randint\n",
    "\n",
    "param_dist = {\"n_estimators\": [4, 8, 16, 32, 64, 128], # Number of trees in random forest\n",
    "                \"max_features\": ['log2', 'sqrt'], # Number of features to consider at every split (auto no funciona)\n",
    "                \"max_depth\": [16, 12,8,4, 2,None], # Maximum number of levels in tree\n",
    "                \"min_samples_split\": sp_randint(2, 50), #  Minimum number of samples required to split a node\n",
    "                \"min_samples_leaf\": sp_randint(1, 50), # Minimum number of samples required at each leaf node\n",
    "                \"criterion\": ['friedman_mse', 'squared_error'] # 'criterion' parameter of GradientBoostingRegressor must be a str among {'squared_error', 'friedman_mse'}. \n",
    "                }\n",
    "\n",
    "# Aplicar GridSearchCV\n",
    "grid_gb = RandomizedSearchCV(GradientBoostingClassifier(), param_distributions = param_dist, \n",
    "                            n_iter = 100, cv = 5, random_state=0, n_jobs = -1)\n",
    "grid_gb.fit(X=train.drop(['target'], axis=1), y=train['target'])\n",
    "\n",
    "# Obtener el mejor estimador\n",
    "best_gb = grid_gb.best_estimator_\n",
    "\n",
    "# fit y predecir utilizando el mejor estimador\n",
    "y_pred = best_gb.predict(X=test.drop(['target'], axis=1))\n",
    "\n",
    "# Evaluar\n",
    "print(classification_report(y_test, y_pred))"
   ]
  }
 ],
 "metadata": {
  "kernelspec": {
   "display_name": "Python 3",
   "language": "python",
   "name": "python3"
  },
  "language_info": {
   "codemirror_mode": {
    "name": "ipython",
    "version": 3
   },
   "file_extension": ".py",
   "mimetype": "text/x-python",
   "name": "python",
   "nbconvert_exporter": "python",
   "pygments_lexer": "ipython3",
   "version": "3.11.5"
  }
 },
 "nbformat": 4,
 "nbformat_minor": 2
}
